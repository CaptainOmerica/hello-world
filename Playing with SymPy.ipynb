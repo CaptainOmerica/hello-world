{
 "cells": [
  {
   "cell_type": "markdown",
   "metadata": {},
   "source": [
    "<h1> SymPy is such a useful Library! You can manipulate Fractions, simplify expressions and even break them into partial fractions! </h1>\n",
    "\n",
    "<h3>https://mattpap.github.io/scipy-2011-tutorial/html/partfrac.html // documentation for partial fractions</h3>"
   ]
  },
  {
   "cell_type": "code",
   "execution_count": 15,
   "metadata": {},
   "outputs": [],
   "source": [
    "import sympy as sp"
   ]
  },
  {
   "cell_type": "code",
   "execution_count": 19,
   "metadata": {},
   "outputs": [],
   "source": [
    "s=sp.symbols('s') #defines s as a variable"
   ]
  },
  {
   "cell_type": "code",
   "execution_count": 41,
   "metadata": {},
   "outputs": [],
   "source": [
    "simp_num=sp.expand((s+4)*(s+6))\n",
    "simp_denom=sp.expand((s+1)*(s+7)*(s+8)*(s+10))\n"
   ]
  },
  {
   "cell_type": "code",
   "execution_count": 42,
   "metadata": {},
   "outputs": [
    {
     "data": {
      "text/latex": [
       "$\\displaystyle s^{2} + 10 s + 24$"
      ],
      "text/plain": [
       "s**2 + 10*s + 24"
      ]
     },
     "execution_count": 42,
     "metadata": {},
     "output_type": "execute_result"
    }
   ],
   "source": [
    "simp_num"
   ]
  },
  {
   "cell_type": "code",
   "execution_count": 43,
   "metadata": {},
   "outputs": [
    {
     "data": {
      "text/latex": [
       "$\\displaystyle s^{4} + 26 s^{3} + 231 s^{2} + 766 s + 560$"
      ],
      "text/plain": [
       "s**4 + 26*s**3 + 231*s**2 + 766*s + 560"
      ]
     },
     "execution_count": 43,
     "metadata": {},
     "output_type": "execute_result"
    }
   ],
   "source": [
    "simp_denom"
   ]
  },
  {
   "cell_type": "code",
   "execution_count": 38,
   "metadata": {},
   "outputs": [],
   "source": [
    "f= 10*simp/simp_denom"
   ]
  },
  {
   "cell_type": "code",
   "execution_count": 39,
   "metadata": {},
   "outputs": [
    {
     "data": {
      "text/latex": [
       "$\\displaystyle - \\frac{40}{9 \\left(s + 10\\right)} + \\frac{40}{7 \\left(s + 8\\right)} - \\frac{5}{3 \\left(s + 7\\right)} + \\frac{25}{63 \\left(s + 1\\right)}$"
      ],
      "text/plain": [
       "-40/(9*(s + 10)) + 40/(7*(s + 8)) - 5/(3*(s + 7)) + 25/(63*(s + 1))"
      ]
     },
     "execution_count": 39,
     "metadata": {},
     "output_type": "execute_result"
    }
   ],
   "source": [
    "answer=sp.apart(f)\n",
    "answer"
   ]
  },
  {
   "cell_type": "code",
   "execution_count": 48,
   "metadata": {},
   "outputs": [
    {
     "data": {
      "text/latex": [
       "$\\displaystyle \\frac{5 \\left(- 56 \\left(s + 1\\right) \\left(s + 7\\right) \\left(s + 8\\right) + 72 \\left(s + 1\\right) \\left(s + 7\\right) \\left(s + 10\\right) - 21 \\left(s + 1\\right) \\left(s + 8\\right) \\left(s + 10\\right) + 5 \\left(s + 7\\right) \\left(s + 8\\right) \\left(s + 10\\right)\\right)}{63 \\left(s + 1\\right) \\left(s + 7\\right) \\left(s + 8\\right) \\left(s + 10\\right)}$"
      ],
      "text/plain": [
       "5*(-56*(s + 1)*(s + 7)*(s + 8) + 72*(s + 1)*(s + 7)*(s + 10) - 21*(s + 1)*(s + 8)*(s + 10) + 5*(s + 7)*(s + 8)*(s + 10))/(63*(s + 1)*(s + 7)*(s + 8)*(s + 10))"
      ]
     },
     "execution_count": 48,
     "metadata": {},
     "output_type": "execute_result"
    }
   ],
   "source": [
    "#bringing em back together\n",
    "ans=sp.together(answer)\n",
    "ans"
   ]
  },
  {
   "cell_type": "code",
   "execution_count": 50,
   "metadata": {},
   "outputs": [
    {
     "data": {
      "text/latex": [
       "$\\displaystyle \\frac{10 \\left(s^{2} + 10 s + 24\\right)}{s^{4} + 26 s^{3} + 231 s^{2} + 766 s + 560}$"
      ],
      "text/plain": [
       "10*(s**2 + 10*s + 24)/(s**4 + 26*s**3 + 231*s**2 + 766*s + 560)"
      ]
     },
     "execution_count": 50,
     "metadata": {},
     "output_type": "execute_result"
    }
   ],
   "source": [
    "#simplifying that expression because it's a mouthful\n",
    "ans=sp.simplify(ans)\n",
    "ans"
   ]
  },
  {
   "cell_type": "code",
   "execution_count": 52,
   "metadata": {},
   "outputs": [
    {
     "data": {
      "text/latex": [
       "$\\displaystyle \\frac{10 \\left(s + 4\\right) \\left(s + 6\\right)}{\\left(s + 1\\right) \\left(s + 7\\right) \\left(s + 8\\right) \\left(s + 10\\right)}$"
      ],
      "text/plain": [
       "10*(s + 4)*(s + 6)/((s + 1)*(s + 7)*(s + 8)*(s + 10))"
      ]
     },
     "execution_count": 52,
     "metadata": {},
     "output_type": "execute_result"
    }
   ],
   "source": [
    "#factorizing these babies\n",
    "simplified=sp.factor(ans)\n",
    "simplified\n"
   ]
  },
  {
   "cell_type": "markdown",
   "metadata": {},
   "source": [
    "<h2>HOW BEAUTIFUL IS THAT?</h2>"
   ]
  },
  {
   "cell_type": "code",
   "execution_count": null,
   "metadata": {},
   "outputs": [],
   "source": []
  }
 ],
 "metadata": {
  "kernelspec": {
   "display_name": "Python 3",
   "language": "python",
   "name": "python3"
  },
  "language_info": {
   "codemirror_mode": {
    "name": "ipython",
    "version": 3
   },
   "file_extension": ".py",
   "mimetype": "text/x-python",
   "name": "python",
   "nbconvert_exporter": "python",
   "pygments_lexer": "ipython3",
   "version": "3.8.3"
  }
 },
 "nbformat": 4,
 "nbformat_minor": 4
}
